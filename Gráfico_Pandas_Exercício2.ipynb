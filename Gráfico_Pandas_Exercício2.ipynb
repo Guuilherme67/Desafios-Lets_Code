{
  "cells": [
    {
      "cell_type": "markdown",
      "metadata": {
        "id": "view-in-github",
        "colab_type": "text"
      },
      "source": [
        "<a href=\"https://colab.research.google.com/github/Guuilherme67/Desafios-Lets_Code/blob/main/Gr%C3%A1fico_Pandas_Exerc%C3%ADcio2.ipynb\" target=\"_parent\"><img src=\"https://colab.research.google.com/assets/colab-badge.svg\" alt=\"Open In Colab\"/></a>"
      ]
    },
    {
      "cell_type": "markdown",
      "id": "27db421d",
      "metadata": {
        "id": "27db421d"
      },
      "source": [
        "### Aula 2: Exercícios\n",
        "\n",
        "Para estes exercícios, iremos utilizar duas bases:\n",
        "\n",
        "1) base fictícia de funcionários criada por cientistas de dados da IBM.\n",
        "\n",
        "**Variáveis:**\n",
        "- **Age:** Idade\n",
        "- **Attrition:** Se saiu da empresa (Sim ou não)\n",
        "- **BusinessTravel:** Frequência de viagens a trabalho\n",
        "- **DailyRate:** Custo do funcionário por dia\n",
        "- **Department:** Departamento\n",
        "- **DistanceFromHome:** Distância do trabalho até a casa do funcionário\n",
        "- **Education:** Nível de educação:\n",
        "    - 1: 'Below College'\n",
        "    - 2: 'College'\n",
        "    - 3: 'Bachelor'\n",
        "    - 4: 'Master'\n",
        "    - 5: 'Doctor'\n",
        "- **EducationField:** Área da educação\n",
        "- **EmployeeNumber:** ID do funcionário\n",
        "- **EnvironmentSatisfaction:** Satisfação com o ambiente de trabalho:\n",
        "    - 1: 'Low'\n",
        "    - 2: 'Medium'\n",
        "    - 3: 'High'\n",
        "    - 4: 'Very High'\n",
        "- **Gender:** Gênero\n",
        "- **HourlyRate:** Valor/hora\n",
        "- **JobInvolvement:** Nível de envolvimento com o trabalho (psicologica e emocionalmente):\n",
        "    - 1: 'Low'\n",
        "    - 2: 'Medium'\n",
        "    - 3: 'High'\n",
        "    - 4: 'Very High'\n",
        "- **JobLevel:** Nível do funcionário\n",
        "- **JobRole:** Cargo\n",
        "- **JobSatisfaction:** Nível de satisfação com o trabalho:\n",
        "    - 1: 'Low'\n",
        "    - 2: 'Medium'\n",
        "    - 3: 'High'\n",
        "    - 4: 'Very High'\n",
        "- **MaritalStatus:** Estado Civil\n",
        "- **NumCompaniesWorked:** Número de empresas que já trabalhou\n",
        "- **PercentSalaryHike:** Aumento salarial (%)\n",
        "- **PerformanceRating:** Nível de performance:\n",
        "    - 1: 'Low'\n",
        "    - 2: 'Good'\n",
        "    - 3: 'Excellent'\n",
        "    - 4: 'Outstanding'\n",
        "- **RelationshipSatisfaction:** Satisfação de relacionamento:\n",
        "    - 1: 'Low'\n",
        "    - 2: 'Medium'\n",
        "    - 3: 'High'\n",
        "    - 4: 'Very High'\n",
        "- **TotalWorkingYears:** Número de anos trabalhados\n",
        "- **TrainingTimesLastYear:** Número de treinamentos no ano anterior\n",
        "- **WorkLifeBalance:** Equilíbrio da vida profissional\n",
        "    - 1: 'Bad'\n",
        "    - 2: 'Good'\n",
        "    - 3: 'Better'\n",
        "    - 4: 'Best'\n",
        "- **YearsAtCompany:** Anos na empresa\n",
        "- **YearsInCurrentRole:** Anos na posição atual\n",
        "- **YearsSinceLastPromotion:** Anos desde a última promoção\n",
        "- **YearsWithCurrManager:** Anos com o mesmo gestor\n",
        "\n",
        "2) Base de dados de casos e óbitos de covid no estado de SP.\n",
        "\n",
        "- **nome_munic:** Nome do município\n",
        "- **codigo_ibge:** Código do município no IBGE (7 dígitos)\n",
        "- **casos_novos:** Casos novos registrados na data\n",
        "- **obitos_novos:** Óbitos novos registrados na data\n",
        "- **nome_drs:** Nome do Dpto. Regional de Saúde\n",
        "- **cod_drs:** Código do Dpto. Regional de Saúde\n",
        "- **pop:** População Estimada (fonte: SEADE)\n",
        "- **pop60:** População acima de 60 anos (fonte: SEADE)\n",
        "- **ano_mes:** Ano e mês dos dados"
      ]
    },
    {
      "cell_type": "code",
      "execution_count": 2,
      "id": "cc8717bc",
      "metadata": {
        "id": "cc8717bc"
      },
      "outputs": [],
      "source": [
        "import pandas as pd\n",
        "import numpy as np"
      ]
    },
    {
      "cell_type": "code",
      "source": [
        "from google.colab import drive\n",
        "drive.mount('/content/drive')"
      ],
      "metadata": {
        "colab": {
          "base_uri": "https://localhost:8080/"
        },
        "id": "zdKH8subP1yP",
        "outputId": "210fbea4-d610-43c0-c854-1b3c0ce817b2"
      },
      "id": "zdKH8subP1yP",
      "execution_count": 3,
      "outputs": [
        {
          "output_type": "stream",
          "name": "stdout",
          "text": [
            "Mounted at /content/drive\n"
          ]
        }
      ]
    },
    {
      "cell_type": "code",
      "execution_count": 4,
      "id": "cd39ba13",
      "metadata": {
        "id": "cd39ba13"
      },
      "outputs": [],
      "source": [
        "df1 = pd.read_csv('/content/drive/MyDrive/Grafico pandas lets code/Cópia de IBM_Employees.csv')"
      ]
    },
    {
      "cell_type": "code",
      "execution_count": 5,
      "id": "0a4730cc",
      "metadata": {
        "id": "0a4730cc"
      },
      "outputs": [],
      "source": [
        "df2 = pd.read_csv('/content/drive/MyDrive/Grafico pandas lets code/Cópia de dados_covid_sp_20.csv')"
      ]
    },
    {
      "cell_type": "markdown",
      "id": "272987e1",
      "metadata": {
        "id": "272987e1"
      },
      "source": [
        "## Exercício 1:\n",
        "Utilizando a base de dados de covid:\n",
        "\n",
        "**a)** Faça um gráfico de barras mostrando o total de óbitos (considerando todos os meses) para todos os DRS, excluindo a Grande São Paulo. Coloque título no gráfico e nos eixos, defina um tamanho de imagem bom e intercale as barras com as cores 'red' e 'green'."
      ]
    },
    {
      "cell_type": "code",
      "execution_count": 8,
      "metadata": {
        "id": "7e056dec",
        "outputId": "c3a32137-472b-4aa8-db4f-e15968b8db6e",
        "colab": {
          "base_uri": "https://localhost:8080/",
          "height": 519
        }
      },
      "outputs": [
        {
          "output_type": "execute_result",
          "data": {
            "text/plain": [
              "<matplotlib.axes._subplots.AxesSubplot at 0x7fb40b715f90>"
            ]
          },
          "metadata": {},
          "execution_count": 8
        },
        {
          "output_type": "display_data",
          "data": {
            "image/png": "[encoded data removed]",
            "text/plain": [
              "<Figure size 864x432 with 1 Axes>"
            ]
          },
          "metadata": {
            "needs_background": "light"
          }
        }
      ],
      "source": [
        "df2[df2['nome_drs']!='Grande São Paulo'].groupby(['nome_drs'], as_index=False).sum().plot.bar(x='nome_drs', y='obitos_novos', \n",
        "                                                                                          figsize=(12,6), title='Total de óbitos por DRS', \n",
        "                                                                                          color=['red','green'],\n",
        "                                                                                         xlabel='Nome DRS', ylabel='Quantidade de óbitos')"
      ],
      "id": "7e056dec"
    },
    {
      "cell_type": "markdown",
      "metadata": {
        "id": "f2bba32a"
      },
      "source": [
        "**b)**  Faça um gráfico de barras horizontal mostrando o total de óbitos no mês de abril para 3 DRS da sua escolha. Coloque título no gráfico e nos eixos, defina um tamanho de imagem bom."
      ],
      "id": "f2bba32a"
    },
    {
      "cell_type": "code",
      "execution_count": 11,
      "metadata": {
        "id": "54fb0d89",
        "outputId": "af43f2a3-76ac-4366-ddf4-0c275b1042da",
        "colab": {
          "base_uri": "https://localhost:8080/",
          "height": 355
        }
      },
      "outputs": [
        {
          "output_type": "execute_result",
          "data": {
            "text/plain": [
              "<matplotlib.axes._subplots.AxesSubplot at 0x7fb40b13f490>"
            ]
          },
          "metadata": {},
          "execution_count": 11
        },
        {
          "output_type": "display_data",
          "data": {
            "image/png": "[encoded data removed]",
            "text/plain": [
              "<Figure size 720x360 with 1 Axes>"
            ]
          },
          "metadata": {
            "needs_background": "light"
          }
        }
      ],
      "source": [
        "df2[df2['nome_drs'].isin(['Araraquara', 'Marília', 'Barretos'])\n",
        "   & (df2.ano_mes=='2020-04')].groupby(['nome_drs'], as_index=False).sum().plot.barh(x='nome_drs', y='obitos_novos', \n",
        "                                                                                          figsize=(10,5), \n",
        "                                                     title='Óbitos por DRS em Abril/2020', label='óbitos',\n",
        "                                                                                         xlabel='Nome DRS')"
      ],
      "id": "54fb0d89"
    },
    {
      "cell_type": "markdown",
      "metadata": {
        "id": "a44df3ee"
      },
      "source": [
        "## Exercício 2\n",
        "\n",
        "**a)** Utilizando a base de dados da IBM, crie um histograma para as idades dos funcionários, separando por gênero."
      ],
      "id": "a44df3ee"
    },
    {
      "cell_type": "code",
      "execution_count": 39,
      "metadata": {
        "id": "ab723e69",
        "outputId": "b567ad44-0607-4f38-ffa3-e16fa9364fc9",
        "colab": {
          "base_uri": "https://localhost:8080/",
          "height": 736
        }
      },
      "outputs": [
        {
          "output_type": "execute_result",
          "data": {
            "text/plain": [
              "[]"
            ]
          },
          "metadata": {},
          "execution_count": 39
        },
        {
          "output_type": "display_data",
          "data": {
            "image/png": "[encoded data removed]",
            "text/plain": [
              "<Figure size 1296x864 with 1 Axes>"
            ]
          },
          "metadata": {
            "needs_background": "light"
          }
        }
      ],
      "source": [
        "ax_hist = df1[df1['Gender']=='Female'].plot.hist(y='Age', bins=8, figsize=(15,10), label='Female', color='#fb4570')\n",
        "ax_hist2 = df1[df1['Gender']=='Male'].plot.hist(y='Age', bins=8, figsize=(18,12), alpha=.3, ax=ax_hist, label='Male')\n",
        "ax_hist.set_xlabel('Idade', fontsize=16)\n",
        "ax_hist.set_ylabel('Frequência', fontsize=16)\n",
        "\n",
        "ax_hist.plot()"
      ],
      "id": "ab723e69"
    },
    {
      "cell_type": "markdown",
      "metadata": {
        "id": "c25fd05e"
      },
      "source": [
        "**b)** Faça agora um boxplot das idades, por gênero."
      ],
      "id": "c25fd05e"
    },
    {
      "cell_type": "code",
      "execution_count": 40,
      "metadata": {
        "id": "b414d6fd",
        "outputId": "7e809a99-1ff7-4cc4-ce4a-6a7c19668edd",
        "colab": {
          "base_uri": "https://localhost:8080/",
          "height": 373
        }
      },
      "outputs": [
        {
          "output_type": "stream",
          "name": "stderr",
          "text": [
            "/usr/local/lib/python3.7/dist-packages/matplotlib/cbook/__init__.py:1376: VisibleDeprecationWarning: Creating an ndarray from ragged nested sequences (which is a list-or-tuple of lists-or-tuples-or ndarrays with different lengths or shapes) is deprecated. If you meant to do this, you must specify 'dtype=object' when creating the ndarray.\n",
            "  X = np.atleast_1d(X.T if isinstance(X, np.ndarray) else np.asarray(X))\n"
          ]
        },
        {
          "output_type": "execute_result",
          "data": {
            "text/plain": [
              "<matplotlib.axes._subplots.AxesSubplot at 0x7fb40a738510>"
            ]
          },
          "metadata": {},
          "execution_count": 40
        },
        {
          "output_type": "display_data",
          "data": {
            "image/png": "[encoded data removed]",
            "text/plain": [
              "<Figure size 432x288 with 1 Axes>"
            ]
          },
          "metadata": {
            "needs_background": "light"
          }
        }
      ],
      "source": [
        "df1.boxplot(column='Age', by='Gender')"
      ],
      "id": "b414d6fd"
    }
  ],
  "metadata": {
    "kernelspec": {
      "display_name": "Python 3",
      "language": "python",
      "name": "python3"
    },
    "language_info": {
      "codemirror_mode": {
        "name": "ipython",
        "version": 3
      },
      "file_extension": ".py",
      "mimetype": "text/x-python",
      "name": "python",
      "nbconvert_exporter": "python",
      "pygments_lexer": "ipython3",
      "version": "3.7.4"
    },
    "colab": {
      "name": "Cópia de Aula 2 - Exercícios.ipynb",
      "provenance": [],
      "include_colab_link": true
    }
  },
  "nbformat": 4,
  "nbformat_minor": 5
}